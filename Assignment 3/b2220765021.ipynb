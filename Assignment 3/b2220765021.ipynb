{
 "cells": [
  {
   "cell_type": "markdown",
   "id": "4de9308e",
   "metadata": {},
   "source": [
    "## 0- Imports"
   ]
  },
  {
   "cell_type": "code",
   "execution_count": null,
   "id": "db08f579",
   "metadata": {},
   "outputs": [],
   "source": [
    "import os\n",
    "import shutil\n",
    "from PIL import Image\n",
    "import matplotlib.pyplot as plt\n",
    "import yaml\n",
    "\n",
    "from ultralytics import YOLO"
   ]
  },
  {
   "cell_type": "markdown",
   "id": "698ff14f",
   "metadata": {},
   "source": [
    "---"
   ]
  },
  {
   "cell_type": "markdown",
   "id": "5b5e5c1f",
   "metadata": {},
   "source": [
    "## 1- Preparing the Dataset"
   ]
  },
  {
   "cell_type": "markdown",
   "id": "cd12c89e",
   "metadata": {},
   "source": [
    "I use a YAML file since it is the best practice with the YOLO models. To use such file, first, I create a convenient version of the dataset"
   ]
  },
  {
   "cell_type": "code",
   "execution_count": 2,
   "id": "b4a3ce2f",
   "metadata": {},
   "outputs": [],
   "source": [
    "base_dir = os.getcwd()\n",
    "annotations_dir = os.path.join(base_dir, 'Annotations')\n",
    "images_dir = os.path.join(base_dir, 'Images')\n",
    "imagesets_dir = os.path.join(base_dir, 'ImageSets')"
   ]
  },
  {
   "cell_type": "code",
   "execution_count": 3,
   "id": "cd1b9338",
   "metadata": {},
   "outputs": [],
   "source": [
    "dataset_dir = os.path.join(base_dir, 'dataset')\n",
    "os.makedirs(os.path.join(dataset_dir, 'train', 'images'), exist_ok=True)\n",
    "os.makedirs(os.path.join(dataset_dir, 'train', 'labels'), exist_ok=True)\n",
    "os.makedirs(os.path.join(dataset_dir, 'val', 'images'), exist_ok=True)\n",
    "os.makedirs(os.path.join(dataset_dir, 'val', 'labels'), exist_ok=True)\n",
    "os.makedirs(os.path.join(dataset_dir, 'test', 'images'), exist_ok=True)\n",
    "os.makedirs(os.path.join(dataset_dir, 'test', 'labels'), exist_ok=True)"
   ]
  },
  {
   "cell_type": "code",
   "execution_count": 4,
   "id": "283d7c21",
   "metadata": {},
   "outputs": [],
   "source": [
    "def convert_to_yolo_format(bbox, img_width, img_height):\n",
    "    x_min, y_min, x_max, y_max, class_id = bbox\n",
    "    \n",
    "    # Convert to center format\n",
    "    x_center = (x_min + x_max) / 2\n",
    "    y_center = (y_min + y_max) / 2\n",
    "    width = x_max - x_min\n",
    "    height = y_max - y_min\n",
    "    \n",
    "    # Normalize to 0-1\n",
    "    x_center /= img_width\n",
    "    y_center /= img_height\n",
    "    width /= img_width\n",
    "    height /= img_height\n",
    "    \n",
    "    # YOLO uses zero-indexed classes\n",
    "    class_id = int(class_id) - 1\n",
    "    \n",
    "    return [class_id, x_center, y_center, width, height]"
   ]
  },
  {
   "cell_type": "code",
   "execution_count": null,
   "id": "69f94ef4",
   "metadata": {},
   "outputs": [
    {
     "name": "stdout",
     "output_type": "stream",
     "text": [
      "Dataset conversion complete!\n"
     ]
    }
   ],
   "source": [
    "# Process each split (train, val, test)\n",
    "for split in ['train', 'val', 'test']:\n",
    "    # Read filenames from split files\n",
    "    with open(os.path.join(imagesets_dir, f'{split}.txt'), 'r') as f:\n",
    "        filenames = [line.strip() for line in f.readlines()]\n",
    "    \n",
    "    for filename in filenames:\n",
    "        # Image path\n",
    "        image_path = os.path.join(images_dir, f'{filename}.png')\n",
    "            \n",
    "        # Get image dimensions\n",
    "        with Image.open(image_path) as img:\n",
    "            img_width, img_height = img.size\n",
    "        \n",
    "        # Annotation path\n",
    "        annotation_path = os.path.join(annotations_dir, f'{filename}.txt')\n",
    "        \n",
    "        # Destination paths\n",
    "        dest_img_path = os.path.join(dataset_dir, split, 'images', os.path.basename(image_path))\n",
    "        dest_label_path = os.path.join(dataset_dir, split, 'labels', f'{filename}.txt')\n",
    "        \n",
    "        # Copy image\n",
    "        shutil.copy(image_path, dest_img_path)\n",
    "        \n",
    "        # Convert and save annotation\n",
    "        with open(annotation_path, 'r') as f:\n",
    "            bbox_lines = f.readlines()\n",
    "            \n",
    "        with open(dest_label_path, 'w') as f:\n",
    "            for line in bbox_lines:\n",
    "                bbox = list(map(float, line.strip().split()))\n",
    "                yolo_bbox = convert_to_yolo_format(bbox, img_width, img_height)\n",
    "                f.write(' '.join(map(str, yolo_bbox)) + '\\n')"
   ]
  },
  {
   "cell_type": "code",
   "execution_count": null,
   "id": "21cd8e73",
   "metadata": {},
   "outputs": [
    {
     "name": "stdout",
     "output_type": "stream",
     "text": [
      "Created dataset.yaml with path: c:\\Users\\Bora\\Desktop\\HU\\AIN433\\Assignment 3\\dataset\n"
     ]
    }
   ],
   "source": [
    "data_yaml = {\n",
    "    'path': dataset_dir,  # Absolute path to dataset directory\n",
    "    'train': os.path.join(dataset_dir, 'train', 'images'),\n",
    "    'val': os.path.join(dataset_dir, 'val', 'images'),\n",
    "    'test': os.path.join(dataset_dir, 'test', 'images'),\n",
    "    'names': {\n",
    "        0: 'car'\n",
    "    }\n",
    "}\n",
    "\n",
    "# Write to file\n",
    "with open('dataset.yaml', 'w') as f:\n",
    "    yaml.dump(data_yaml, f, sort_keys=False)"
   ]
  },
  {
   "cell_type": "markdown",
   "id": "24815735",
   "metadata": {},
   "source": [
    "---"
   ]
  },
  {
   "cell_type": "markdown",
   "id": "e3fb6bbe",
   "metadata": {},
   "source": [
    "## 2- Training"
   ]
  },
  {
   "cell_type": "markdown",
   "id": "7c530d13",
   "metadata": {},
   "source": [
    "First, I define a global training function that can be used for all settings."
   ]
  },
  {
   "cell_type": "code",
   "execution_count": 28,
   "id": "92f4e6ad",
   "metadata": {},
   "outputs": [],
   "source": [
    "def train_yolo_frozen_blocks(blocks_to_freeze=3, optimizer='Adam', lr=0.001, batch_size=16, epochs=30):\n",
    "    \"\"\"\n",
    "    Train YOLOv8n with specific blocks frozen and hyperparameters.\n",
    "    \n",
    "    Args:\n",
    "        blocks_to_freeze: Number of blocks to freeze from the start\n",
    "        optimizer: Optimizer to use ('Adam', 'SGD', 'AdamW')\n",
    "        lr: Learning rate\n",
    "        batch_size: Batch size for training\n",
    "        epochs: Number of epochs\n",
    "    \n",
    "    Returns:\n",
    "        Trained model and training results\n",
    "    \"\"\"\n",
    "    # Load a pretrained YOLOv8n model\n",
    "    model = YOLO(os.path.join(base_dir, 'yolov8n.pt'))\n",
    "    \n",
    "    # Freeze the first blocks_to_freeze blocks\n",
    "    for i in range(blocks_to_freeze):\n",
    "        for param in model.model.model[i].parameters():\n",
    "            param.requires_grad = False\n",
    "        print(f\"Block {i} frozen\")\n",
    "    \n",
    "    # Define training hyperparameters\n",
    "    training_args = {\n",
    "        'data': 'dataset.yaml',\n",
    "        'epochs': epochs,\n",
    "        'imgsz': 640,\n",
    "        'batch': batch_size,\n",
    "        'optimizer': optimizer.lower(),\n",
    "        'lr0': lr,\n",
    "        'name': f'freeze_{blocks_to_freeze}_opt_{optimizer}_lr_{lr}_batch_{batch_size}'\n",
    "    }\n",
    "    \n",
    "    # Train the model\n",
    "    results = model.train(**training_args)\n",
    "    \n",
    "    return model, results"
   ]
  },
  {
   "cell_type": "markdown",
   "id": "45511527",
   "metadata": {},
   "source": [
    "Plotting is automatically done by YOLO trainer, making our lives much easier :)"
   ]
  },
  {
   "cell_type": "code",
   "execution_count": 64,
   "id": "9a17ec66",
   "metadata": {},
   "outputs": [],
   "source": [
    "def visualize_results(results):\n",
    "    \"\"\"\n",
    "    Visualize training results and prediction comparisons from YOLOv8 output.\n",
    "    \n",
    "    Args:\n",
    "        results: The results object returned by model.train()\n",
    "    \"\"\"\n",
    "    # Get the save directory\n",
    "    save_dir = results.save_dir\n",
    "    print(f\"Loading visualizations from: {save_dir}\")\n",
    "    \n",
    "    # 1. Display the results.png which contains all the metrics and curves\n",
    "    results_img_path = os.path.join(save_dir, 'results.png')\n",
    "    if os.path.exists(results_img_path):\n",
    "        plt.figure(figsize=(12, 8))\n",
    "        img = plt.imread(results_img_path)\n",
    "        plt.imshow(img)\n",
    "        plt.axis('off')\n",
    "        plt.title('Training Results and Metrics')\n",
    "        plt.tight_layout()\n",
    "        plt.show()\n",
    "    else:\n",
    "        print(f\"Warning: Results image not found at {results_img_path}\")\n",
    "    \n",
    "    # 2. Display validation batch images side by side (ground truth vs predictions)\n",
    "    labels_img_path = os.path.join(save_dir, 'val_batch0_labels.jpg')\n",
    "    preds_img_path = os.path.join(save_dir, 'val_batch0_pred.jpg')\n",
    "    \n",
    "    if os.path.exists(labels_img_path) and os.path.exists(preds_img_path):\n",
    "        plt.figure(figsize=(18, 8))\n",
    "        \n",
    "        # Ground truth\n",
    "        plt.subplot(1, 2, 1)\n",
    "        img_labels = plt.imread(labels_img_path)\n",
    "        plt.imshow(img_labels)\n",
    "        plt.axis('off')\n",
    "        plt.title('Ground Truth Labels')\n",
    "        \n",
    "        # Predictions\n",
    "        plt.subplot(1, 2, 2)\n",
    "        img_preds = plt.imread(preds_img_path)\n",
    "        plt.imshow(img_preds)\n",
    "        plt.axis('off')\n",
    "        plt.title('Model Predictions')\n",
    "        \n",
    "        plt.tight_layout()\n",
    "        plt.show()\n",
    "    else:\n",
    "        print(f\"Warning: Validation images not found at {labels_img_path} or {preds_img_path}\")"
   ]
  },
  {
   "cell_type": "markdown",
   "id": "662207f9",
   "metadata": {},
   "source": [
    "### 2.1- Freezing the First 3 Blocks"
   ]
  },
  {
   "cell_type": "code",
   "execution_count": null,
   "id": "3e7cc299",
   "metadata": {},
   "outputs": [
    {
     "name": "stdout",
     "output_type": "stream",
     "text": [
      "Block 0 frozen\n",
      "Block 1 frozen\n",
      "Block 2 frozen\n",
      "New https://pypi.org/project/ultralytics/8.3.126 available  Update with 'pip install -U ultralytics'\n",
      "Ultralytics 8.3.49  Python-3.10.0 torch-2.4.1+cu124 CUDA:0 (NVIDIA GeForce RTX 3080 Laptop GPU, 8192MiB)\n",
      "\u001b[34m\u001b[1mengine\\trainer: \u001b[0mtask=detect, mode=train, model=c:\\Users\\Bora\\Desktop\\HU\\AIN433\\Assignment 3\\yolov8n.pt, data=dataset.yaml, epochs=30, time=None, patience=100, batch=16, imgsz=640, save=True, save_period=-1, cache=False, device=None, workers=8, project=None, name=freeze_3_opt_Adam_lr_0.001_batch_168, exist_ok=False, pretrained=True, optimizer=adam, verbose=True, seed=0, deterministic=True, single_cls=False, rect=False, cos_lr=False, close_mosaic=10, resume=False, amp=True, fraction=1.0, profile=False, freeze=None, multi_scale=False, overlap_mask=True, mask_ratio=4, dropout=0.0, val=True, split=val, save_json=False, save_hybrid=False, conf=None, iou=0.7, max_det=300, half=False, dnn=False, plots=True, source=None, vid_stride=1, stream_buffer=False, visualize=False, augment=False, agnostic_nms=False, classes=None, retina_masks=False, embed=None, show=False, save_frames=False, save_txt=False, save_conf=False, save_crop=False, show_labels=True, show_conf=True, show_boxes=True, line_width=None, format=torchscript, keras=False, optimize=False, int8=False, dynamic=False, simplify=True, opset=None, workspace=None, nms=False, lr0=0.001, lrf=0.01, momentum=0.937, weight_decay=0.0005, warmup_epochs=3.0, warmup_momentum=0.8, warmup_bias_lr=0.1, box=7.5, cls=0.5, dfl=1.5, pose=12.0, kobj=1.0, nbs=64, hsv_h=0.015, hsv_s=0.7, hsv_v=0.4, degrees=0.0, translate=0.1, scale=0.5, shear=0.0, perspective=0.0, flipud=0.0, fliplr=0.5, bgr=0.0, mosaic=1.0, mixup=0.0, copy_paste=0.0, copy_paste_mode=flip, auto_augment=randaugment, erasing=0.4, crop_fraction=1.0, cfg=None, tracker=botsort.yaml, save_dir=runs\\detect\\freeze_3_opt_Adam_lr_0.001_batch_168\n",
      "Overriding model.yaml nc=80 with nc=1\n",
      "\n",
      "                   from  n    params  module                                       arguments                     \n",
      "  0                  -1  1       464  ultralytics.nn.modules.conv.Conv             [3, 16, 3, 2]                 \n",
      "  1                  -1  1      4672  ultralytics.nn.modules.conv.Conv             [16, 32, 3, 2]                \n",
      "  2                  -1  1      7360  ultralytics.nn.modules.block.C2f             [32, 32, 1, True]             \n",
      "  3                  -1  1     18560  ultralytics.nn.modules.conv.Conv             [32, 64, 3, 2]                \n",
      "  4                  -1  2     49664  ultralytics.nn.modules.block.C2f             [64, 64, 2, True]             \n",
      "  5                  -1  1     73984  ultralytics.nn.modules.conv.Conv             [64, 128, 3, 2]               \n",
      "  6                  -1  2    197632  ultralytics.nn.modules.block.C2f             [128, 128, 2, True]           \n",
      "  7                  -1  1    295424  ultralytics.nn.modules.conv.Conv             [128, 256, 3, 2]              \n",
      "  8                  -1  1    460288  ultralytics.nn.modules.block.C2f             [256, 256, 1, True]           \n",
      "  9                  -1  1    164608  ultralytics.nn.modules.block.SPPF            [256, 256, 5]                 \n",
      " 10                  -1  1         0  torch.nn.modules.upsampling.Upsample         [None, 2, 'nearest']          \n",
      " 11             [-1, 6]  1         0  ultralytics.nn.modules.conv.Concat           [1]                           \n",
      " 12                  -1  1    148224  ultralytics.nn.modules.block.C2f             [384, 128, 1]                 \n",
      " 13                  -1  1         0  torch.nn.modules.upsampling.Upsample         [None, 2, 'nearest']          \n",
      " 14             [-1, 4]  1         0  ultralytics.nn.modules.conv.Concat           [1]                           \n",
      " 15                  -1  1     37248  ultralytics.nn.modules.block.C2f             [192, 64, 1]                  \n",
      " 16                  -1  1     36992  ultralytics.nn.modules.conv.Conv             [64, 64, 3, 2]                \n",
      " 17            [-1, 12]  1         0  ultralytics.nn.modules.conv.Concat           [1]                           \n",
      " 18                  -1  1    123648  ultralytics.nn.modules.block.C2f             [192, 128, 1]                 \n",
      " 19                  -1  1    147712  ultralytics.nn.modules.conv.Conv             [128, 128, 3, 2]              \n",
      " 20             [-1, 9]  1         0  ultralytics.nn.modules.conv.Concat           [1]                           \n",
      " 21                  -1  1    493056  ultralytics.nn.modules.block.C2f             [384, 256, 1]                 \n",
      " 22        [15, 18, 21]  1    751507  ultralytics.nn.modules.head.Detect           [1, [64, 128, 256]]           \n",
      "Model summary: 225 layers, 3,011,043 parameters, 3,011,027 gradients, 8.2 GFLOPs\n",
      "\n",
      "Transferred 319/355 items from pretrained weights\n",
      "Freezing layer 'model.22.dfl.conv.weight'\n",
      "\u001b[34m\u001b[1mAMP: \u001b[0mrunning Automatic Mixed Precision (AMP) checks...\n",
      "\u001b[34m\u001b[1mAMP: \u001b[0mchecks passed \n"
     ]
    },
    {
     "name": "stderr",
     "output_type": "stream",
     "text": [
      "\u001b[34m\u001b[1mtrain: \u001b[0mScanning C:\\Users\\Bora\\Desktop\\HU\\AIN433\\Assignment 3\\dataset\\train\\labels.cache... 1000 images, 0 backgrounds, 0 corrupt: 100%|██████████| 1000/1000 [00:00<?, ?it/s]\n",
      "\u001b[34m\u001b[1mval: \u001b[0mScanning C:\\Users\\Bora\\Desktop\\HU\\AIN433\\Assignment 3\\dataset\\val\\labels.cache... 200 images, 0 backgrounds, 0 corrupt: 100%|██████████| 200/200 [00:00<?, ?it/s]\n"
     ]
    },
    {
     "name": "stdout",
     "output_type": "stream",
     "text": [
      "Plotting labels to runs\\detect\\freeze_3_opt_Adam_lr_0.001_batch_168\\labels.jpg... \n",
      "\u001b[34m\u001b[1moptimizer:\u001b[0m Adam(lr=0.001, momentum=0.937) with parameter groups 57 weight(decay=0.0), 64 weight(decay=0.0005), 63 bias(decay=0.0)\n",
      "Image sizes 640 train, 640 val\n",
      "Using 8 dataloader workers\n",
      "Logging results to \u001b[1mruns\\detect\\freeze_3_opt_Adam_lr_0.001_batch_168\u001b[0m\n",
      "Starting training for 30 epochs...\n",
      "\n",
      "      Epoch    GPU_mem   box_loss   cls_loss   dfl_loss  Instances       Size\n"
     ]
    },
    {
     "name": "stderr",
     "output_type": "stream",
     "text": [
      "       1/30      5.69G      1.336      1.432     0.9808       1084        640: 100%|██████████| 63/63 [00:18<00:00,  3.49it/s]\n",
      "                 Class     Images  Instances      Box(P          R      mAP50  mAP50-95): 100%|██████████| 7/7 [00:02<00:00,  2.76it/s]"
     ]
    },
    {
     "name": "stdout",
     "output_type": "stream",
     "text": [
      "                   all        200      11906      0.963      0.876      0.957      0.659\n"
     ]
    },
    {
     "name": "stderr",
     "output_type": "stream",
     "text": [
      "\n"
     ]
    },
    {
     "name": "stdout",
     "output_type": "stream",
     "text": [
      "\n",
      "      Epoch    GPU_mem   box_loss   cls_loss   dfl_loss  Instances       Size\n"
     ]
    },
    {
     "name": "stderr",
     "output_type": "stream",
     "text": [
      "       2/30      6.94G      1.125     0.7389      0.914        742        640: 100%|██████████| 63/63 [00:28<00:00,  2.24it/s]\n",
      "                 Class     Images  Instances      Box(P          R      mAP50  mAP50-95): 100%|██████████| 7/7 [00:05<00:00,  1.21it/s]"
     ]
    },
    {
     "name": "stdout",
     "output_type": "stream",
     "text": [
      "                   all        200      11906      0.964       0.94      0.978      0.743\n"
     ]
    },
    {
     "name": "stderr",
     "output_type": "stream",
     "text": [
      "\n"
     ]
    },
    {
     "name": "stdout",
     "output_type": "stream",
     "text": [
      "\n",
      "      Epoch    GPU_mem   box_loss   cls_loss   dfl_loss  Instances       Size\n"
     ]
    },
    {
     "name": "stderr",
     "output_type": "stream",
     "text": [
      "       3/30      6.93G      1.032     0.6497     0.8939        952        640: 100%|██████████| 63/63 [00:30<00:00,  2.10it/s]\n",
      "                 Class     Images  Instances      Box(P          R      mAP50  mAP50-95): 100%|██████████| 7/7 [00:04<00:00,  1.49it/s]"
     ]
    },
    {
     "name": "stdout",
     "output_type": "stream",
     "text": [
      "                   all        200      11906      0.986       0.95      0.984      0.762\n"
     ]
    },
    {
     "name": "stderr",
     "output_type": "stream",
     "text": [
      "\n"
     ]
    },
    {
     "name": "stdout",
     "output_type": "stream",
     "text": [
      "\n",
      "      Epoch    GPU_mem   box_loss   cls_loss   dfl_loss  Instances       Size\n"
     ]
    },
    {
     "name": "stderr",
     "output_type": "stream",
     "text": [
      "       4/30      5.87G     0.9779     0.6038     0.8808        993        640: 100%|██████████| 63/63 [00:38<00:00,  1.66it/s]\n",
      "                 Class     Images  Instances      Box(P          R      mAP50  mAP50-95): 100%|██████████| 7/7 [00:03<00:00,  1.97it/s]\n"
     ]
    },
    {
     "name": "stdout",
     "output_type": "stream",
     "text": [
      "                   all        200      11906      0.986      0.944      0.986      0.778\n",
      "\n",
      "      Epoch    GPU_mem   box_loss   cls_loss   dfl_loss  Instances       Size\n"
     ]
    },
    {
     "name": "stderr",
     "output_type": "stream",
     "text": [
      "       5/30       4.5G     0.9485     0.5696     0.8724        731        640: 100%|██████████| 63/63 [00:35<00:00,  1.75it/s]\n",
      "                 Class     Images  Instances      Box(P          R      mAP50  mAP50-95): 100%|██████████| 7/7 [00:04<00:00,  1.75it/s]"
     ]
    },
    {
     "name": "stdout",
     "output_type": "stream",
     "text": [
      "                   all        200      11906      0.988      0.964       0.99      0.766\n"
     ]
    },
    {
     "name": "stderr",
     "output_type": "stream",
     "text": [
      "\n"
     ]
    },
    {
     "name": "stdout",
     "output_type": "stream",
     "text": [
      "\n",
      "      Epoch    GPU_mem   box_loss   cls_loss   dfl_loss  Instances       Size\n"
     ]
    },
    {
     "name": "stderr",
     "output_type": "stream",
     "text": [
      "       6/30      5.76G     0.9378     0.5531     0.8696        619        640: 100%|██████████| 63/63 [00:37<00:00,  1.67it/s]\n",
      "                 Class     Images  Instances      Box(P          R      mAP50  mAP50-95): 100%|██████████| 7/7 [00:05<00:00,  1.34it/s]"
     ]
    },
    {
     "name": "stdout",
     "output_type": "stream",
     "text": [
      "                   all        200      11906       0.99      0.968      0.991      0.781\n"
     ]
    },
    {
     "name": "stderr",
     "output_type": "stream",
     "text": [
      "\n"
     ]
    },
    {
     "name": "stdout",
     "output_type": "stream",
     "text": [
      "\n",
      "      Epoch    GPU_mem   box_loss   cls_loss   dfl_loss  Instances       Size\n"
     ]
    },
    {
     "name": "stderr",
     "output_type": "stream",
     "text": [
      "       7/30      8.75G     0.9265      0.531     0.8636        919        640: 100%|██████████| 63/63 [27:02<00:00, 25.76s/it] \n",
      "                 Class     Images  Instances      Box(P          R      mAP50  mAP50-95): 100%|██████████| 7/7 [03:46<00:00, 32.34s/it]"
     ]
    },
    {
     "name": "stdout",
     "output_type": "stream",
     "text": [
      "                   all        200      11906       0.99      0.975      0.993      0.789\n"
     ]
    },
    {
     "name": "stderr",
     "output_type": "stream",
     "text": [
      "\n"
     ]
    },
    {
     "name": "stdout",
     "output_type": "stream",
     "text": [
      "\n",
      "      Epoch    GPU_mem   box_loss   cls_loss   dfl_loss  Instances       Size\n"
     ]
    },
    {
     "name": "stderr",
     "output_type": "stream",
     "text": [
      "       8/30      5.79G     0.8974      0.516     0.8608        533        640: 100%|██████████| 63/63 [00:44<00:00,  1.40it/s]\n",
      "                 Class     Images  Instances      Box(P          R      mAP50  mAP50-95): 100%|██████████| 7/7 [00:06<00:00,  1.14it/s]"
     ]
    },
    {
     "name": "stdout",
     "output_type": "stream",
     "text": [
      "                   all        200      11906      0.991      0.973      0.993      0.799\n"
     ]
    },
    {
     "name": "stderr",
     "output_type": "stream",
     "text": [
      "\n"
     ]
    },
    {
     "name": "stdout",
     "output_type": "stream",
     "text": [
      "\n",
      "      Epoch    GPU_mem   box_loss   cls_loss   dfl_loss  Instances       Size\n"
     ]
    },
    {
     "name": "stderr",
     "output_type": "stream",
     "text": [
      "       9/30      5.97G     0.8933     0.5065      0.859       1004        640: 100%|██████████| 63/63 [00:55<00:00,  1.13it/s]\n",
      "                 Class     Images  Instances      Box(P          R      mAP50  mAP50-95): 100%|██████████| 7/7 [00:08<00:00,  1.16s/it]\n"
     ]
    },
    {
     "name": "stdout",
     "output_type": "stream",
     "text": [
      "                   all        200      11906      0.992      0.974      0.993      0.794\n",
      "\n",
      "      Epoch    GPU_mem   box_loss   cls_loss   dfl_loss  Instances       Size\n"
     ]
    },
    {
     "name": "stderr",
     "output_type": "stream",
     "text": [
      "      10/30       8.4G     0.8773     0.4921     0.8554       1161        640: 100%|██████████| 63/63 [05:16<00:00,  5.03s/it]\n",
      "                 Class     Images  Instances      Box(P          R      mAP50  mAP50-95): 100%|██████████| 7/7 [00:28<00:00,  4.08s/it]"
     ]
    },
    {
     "name": "stdout",
     "output_type": "stream",
     "text": [
      "                   all        200      11906      0.988      0.977      0.993      0.798\n"
     ]
    },
    {
     "name": "stderr",
     "output_type": "stream",
     "text": [
      "\n"
     ]
    },
    {
     "name": "stdout",
     "output_type": "stream",
     "text": [
      "\n",
      "      Epoch    GPU_mem   box_loss   cls_loss   dfl_loss  Instances       Size\n"
     ]
    },
    {
     "name": "stderr",
     "output_type": "stream",
     "text": [
      "      11/30       5.4G     0.8631     0.4827     0.8528        917        640: 100%|██████████| 63/63 [00:46<00:00,  1.36it/s]\n",
      "                 Class     Images  Instances      Box(P          R      mAP50  mAP50-95): 100%|██████████| 7/7 [00:06<00:00,  1.09it/s]"
     ]
    },
    {
     "name": "stdout",
     "output_type": "stream",
     "text": [
      "                   all        200      11906      0.988      0.974      0.993      0.777\n"
     ]
    },
    {
     "name": "stderr",
     "output_type": "stream",
     "text": [
      "\n"
     ]
    },
    {
     "name": "stdout",
     "output_type": "stream",
     "text": [
      "\n",
      "      Epoch    GPU_mem   box_loss   cls_loss   dfl_loss  Instances       Size\n"
     ]
    },
    {
     "name": "stderr",
     "output_type": "stream",
     "text": [
      "      12/30      5.09G     0.8788     0.4827      0.855        697        640: 100%|██████████| 63/63 [00:48<00:00,  1.31it/s]\n",
      "                 Class     Images  Instances      Box(P          R      mAP50  mAP50-95): 100%|██████████| 7/7 [00:07<00:00,  1.11s/it]\n"
     ]
    },
    {
     "name": "stdout",
     "output_type": "stream",
     "text": [
      "                   all        200      11906      0.991      0.978      0.994      0.804\n",
      "\n",
      "      Epoch    GPU_mem   box_loss   cls_loss   dfl_loss  Instances       Size\n"
     ]
    },
    {
     "name": "stderr",
     "output_type": "stream",
     "text": [
      "      13/30      6.62G     0.8532     0.4738     0.8512        613        640: 100%|██████████| 63/63 [00:48<00:00,  1.29it/s]\n",
      "                 Class     Images  Instances      Box(P          R      mAP50  mAP50-95): 100%|██████████| 7/7 [00:06<00:00,  1.06it/s]"
     ]
    },
    {
     "name": "stdout",
     "output_type": "stream",
     "text": [
      "                   all        200      11906      0.991      0.979      0.994      0.807\n"
     ]
    },
    {
     "name": "stderr",
     "output_type": "stream",
     "text": [
      "\n"
     ]
    },
    {
     "name": "stdout",
     "output_type": "stream",
     "text": [
      "\n",
      "      Epoch    GPU_mem   box_loss   cls_loss   dfl_loss  Instances       Size\n"
     ]
    },
    {
     "name": "stderr",
     "output_type": "stream",
     "text": [
      "      14/30      4.32G      0.846     0.4637     0.8496        608        640: 100%|██████████| 63/63 [00:49<00:00,  1.28it/s]\n",
      "                 Class     Images  Instances      Box(P          R      mAP50  mAP50-95): 100%|██████████| 7/7 [00:06<00:00,  1.12it/s]"
     ]
    },
    {
     "name": "stdout",
     "output_type": "stream",
     "text": [
      "                   all        200      11906       0.99      0.982      0.994      0.806\n"
     ]
    },
    {
     "name": "stderr",
     "output_type": "stream",
     "text": [
      "\n"
     ]
    },
    {
     "name": "stdout",
     "output_type": "stream",
     "text": [
      "\n",
      "      Epoch    GPU_mem   box_loss   cls_loss   dfl_loss  Instances       Size\n"
     ]
    },
    {
     "name": "stderr",
     "output_type": "stream",
     "text": [
      "      15/30       5.5G     0.8379     0.4545     0.8479        904        640: 100%|██████████| 63/63 [00:45<00:00,  1.38it/s]\n",
      "                 Class     Images  Instances      Box(P          R      mAP50  mAP50-95): 100%|██████████| 7/7 [00:09<00:00,  1.42s/it]"
     ]
    },
    {
     "name": "stdout",
     "output_type": "stream",
     "text": [
      "                   all        200      11906       0.99      0.979      0.994      0.799\n"
     ]
    },
    {
     "name": "stderr",
     "output_type": "stream",
     "text": [
      "\n"
     ]
    },
    {
     "name": "stdout",
     "output_type": "stream",
     "text": [
      "\n",
      "      Epoch    GPU_mem   box_loss   cls_loss   dfl_loss  Instances       Size\n"
     ]
    },
    {
     "name": "stderr",
     "output_type": "stream",
     "text": [
      "      16/30      8.29G     0.8274     0.4496     0.8465        941        640: 100%|██████████| 63/63 [01:03<00:00,  1.01s/it]\n",
      "                 Class     Images  Instances      Box(P          R      mAP50  mAP50-95): 100%|██████████| 7/7 [00:05<00:00,  1.32it/s]"
     ]
    },
    {
     "name": "stdout",
     "output_type": "stream",
     "text": [
      "                   all        200      11906      0.991      0.981      0.994      0.808\n"
     ]
    },
    {
     "name": "stderr",
     "output_type": "stream",
     "text": [
      "\n"
     ]
    },
    {
     "name": "stdout",
     "output_type": "stream",
     "text": [
      "\n",
      "      Epoch    GPU_mem   box_loss   cls_loss   dfl_loss  Instances       Size\n"
     ]
    },
    {
     "name": "stderr",
     "output_type": "stream",
     "text": [
      "      17/30      6.31G     0.8232     0.4482     0.8465        656        640: 100%|██████████| 63/63 [00:48<00:00,  1.29it/s]\n",
      "                 Class     Images  Instances      Box(P          R      mAP50  mAP50-95): 100%|██████████| 7/7 [00:11<00:00,  1.65s/it]"
     ]
    },
    {
     "name": "stdout",
     "output_type": "stream",
     "text": [
      "                   all        200      11906       0.99      0.981      0.994      0.813\n"
     ]
    },
    {
     "name": "stderr",
     "output_type": "stream",
     "text": [
      "\n"
     ]
    },
    {
     "name": "stdout",
     "output_type": "stream",
     "text": [
      "\n",
      "      Epoch    GPU_mem   box_loss   cls_loss   dfl_loss  Instances       Size\n"
     ]
    },
    {
     "name": "stderr",
     "output_type": "stream",
     "text": [
      "      18/30      4.95G     0.8241     0.4444     0.8445       1115        640: 100%|██████████| 63/63 [00:51<00:00,  1.22it/s]\n",
      "                 Class     Images  Instances      Box(P          R      mAP50  mAP50-95): 100%|██████████| 7/7 [00:05<00:00,  1.18it/s]"
     ]
    },
    {
     "name": "stdout",
     "output_type": "stream",
     "text": [
      "                   all        200      11906      0.992      0.982      0.994      0.814\n"
     ]
    },
    {
     "name": "stderr",
     "output_type": "stream",
     "text": [
      "\n"
     ]
    },
    {
     "name": "stdout",
     "output_type": "stream",
     "text": [
      "\n",
      "      Epoch    GPU_mem   box_loss   cls_loss   dfl_loss  Instances       Size\n"
     ]
    },
    {
     "name": "stderr",
     "output_type": "stream",
     "text": [
      "      19/30      6.21G     0.8168      0.436     0.8425        719        640: 100%|██████████| 63/63 [00:48<00:00,  1.29it/s]\n",
      "                 Class     Images  Instances      Box(P          R      mAP50  mAP50-95): 100%|██████████| 7/7 [00:07<00:00,  1.11s/it]"
     ]
    },
    {
     "name": "stdout",
     "output_type": "stream",
     "text": [
      "                   all        200      11906      0.991      0.983      0.994      0.815\n"
     ]
    },
    {
     "name": "stderr",
     "output_type": "stream",
     "text": [
      "\n"
     ]
    },
    {
     "name": "stdout",
     "output_type": "stream",
     "text": [
      "\n",
      "      Epoch    GPU_mem   box_loss   cls_loss   dfl_loss  Instances       Size\n"
     ]
    },
    {
     "name": "stderr",
     "output_type": "stream",
     "text": [
      "      20/30      4.78G      0.805     0.4289     0.8411       1216        640: 100%|██████████| 63/63 [00:51<00:00,  1.23it/s]\n",
      "                 Class     Images  Instances      Box(P          R      mAP50  mAP50-95): 100%|██████████| 7/7 [00:06<00:00,  1.09it/s]"
     ]
    },
    {
     "name": "stdout",
     "output_type": "stream",
     "text": [
      "                   all        200      11906      0.992      0.982      0.994      0.812\n"
     ]
    },
    {
     "name": "stderr",
     "output_type": "stream",
     "text": [
      "\n"
     ]
    },
    {
     "name": "stdout",
     "output_type": "stream",
     "text": [
      "Closing dataloader mosaic\n",
      "\n",
      "      Epoch    GPU_mem   box_loss   cls_loss   dfl_loss  Instances       Size\n"
     ]
    },
    {
     "name": "stderr",
     "output_type": "stream",
     "text": [
      "      21/30      3.73G     0.7865     0.4559     0.8442        372        640: 100%|██████████| 63/63 [00:35<00:00,  1.77it/s]\n",
      "                 Class     Images  Instances      Box(P          R      mAP50  mAP50-95): 100%|██████████| 7/7 [00:04<00:00,  1.40it/s]"
     ]
    },
    {
     "name": "stdout",
     "output_type": "stream",
     "text": [
      "                   all        200      11906      0.991      0.981      0.994      0.808\n"
     ]
    },
    {
     "name": "stderr",
     "output_type": "stream",
     "text": [
      "\n"
     ]
    },
    {
     "name": "stdout",
     "output_type": "stream",
     "text": [
      "\n",
      "      Epoch    GPU_mem   box_loss   cls_loss   dfl_loss  Instances       Size\n"
     ]
    },
    {
     "name": "stderr",
     "output_type": "stream",
     "text": [
      "      22/30      3.89G     0.7671     0.4247     0.8382        667        640: 100%|██████████| 63/63 [00:36<00:00,  1.75it/s]\n",
      "                 Class     Images  Instances      Box(P          R      mAP50  mAP50-95): 100%|██████████| 7/7 [00:05<00:00,  1.39it/s]"
     ]
    },
    {
     "name": "stdout",
     "output_type": "stream",
     "text": [
      "                   all        200      11906      0.992       0.98      0.994      0.814\n"
     ]
    },
    {
     "name": "stderr",
     "output_type": "stream",
     "text": [
      "\n"
     ]
    },
    {
     "name": "stdout",
     "output_type": "stream",
     "text": [
      "\n",
      "      Epoch    GPU_mem   box_loss   cls_loss   dfl_loss  Instances       Size\n"
     ]
    },
    {
     "name": "stderr",
     "output_type": "stream",
     "text": [
      "      23/30      3.96G     0.7686     0.4168     0.8371        503        640: 100%|██████████| 63/63 [00:37<00:00,  1.70it/s]\n",
      "                 Class     Images  Instances      Box(P          R      mAP50  mAP50-95): 100%|██████████| 7/7 [00:06<00:00,  1.05it/s]"
     ]
    },
    {
     "name": "stdout",
     "output_type": "stream",
     "text": [
      "                   all        200      11906      0.993       0.98      0.994      0.819\n"
     ]
    },
    {
     "name": "stderr",
     "output_type": "stream",
     "text": [
      "\n"
     ]
    },
    {
     "name": "stdout",
     "output_type": "stream",
     "text": [
      "\n",
      "      Epoch    GPU_mem   box_loss   cls_loss   dfl_loss  Instances       Size\n"
     ]
    },
    {
     "name": "stderr",
     "output_type": "stream",
     "text": [
      "      24/30      3.57G     0.7552     0.4058      0.836        555        640: 100%|██████████| 63/63 [00:41<00:00,  1.53it/s]\n",
      "                 Class     Images  Instances      Box(P          R      mAP50  mAP50-95): 100%|██████████| 7/7 [00:05<00:00,  1.17it/s]"
     ]
    },
    {
     "name": "stdout",
     "output_type": "stream",
     "text": [
      "                   all        200      11906      0.993      0.981      0.994       0.82\n"
     ]
    },
    {
     "name": "stderr",
     "output_type": "stream",
     "text": [
      "\n"
     ]
    },
    {
     "name": "stdout",
     "output_type": "stream",
     "text": [
      "\n",
      "      Epoch    GPU_mem   box_loss   cls_loss   dfl_loss  Instances       Size\n"
     ]
    },
    {
     "name": "stderr",
     "output_type": "stream",
     "text": [
      "      25/30      4.38G     0.7416      0.398     0.8335        523        640: 100%|██████████| 63/63 [00:45<00:00,  1.39it/s]\n",
      "                 Class     Images  Instances      Box(P          R      mAP50  mAP50-95): 100%|██████████| 7/7 [00:06<00:00,  1.14it/s]"
     ]
    },
    {
     "name": "stdout",
     "output_type": "stream",
     "text": [
      "                   all        200      11906      0.993      0.981      0.994       0.82\n"
     ]
    },
    {
     "name": "stderr",
     "output_type": "stream",
     "text": [
      "\n"
     ]
    },
    {
     "name": "stdout",
     "output_type": "stream",
     "text": [
      "\n",
      "      Epoch    GPU_mem   box_loss   cls_loss   dfl_loss  Instances       Size\n"
     ]
    },
    {
     "name": "stderr",
     "output_type": "stream",
     "text": [
      "      26/30      4.13G     0.7384      0.394     0.8328        477        640: 100%|██████████| 63/63 [00:41<00:00,  1.51it/s]\n",
      "                 Class     Images  Instances      Box(P          R      mAP50  mAP50-95): 100%|██████████| 7/7 [00:06<00:00,  1.09it/s]"
     ]
    },
    {
     "name": "stdout",
     "output_type": "stream",
     "text": [
      "                   all        200      11906      0.994      0.981      0.994      0.821\n"
     ]
    },
    {
     "name": "stderr",
     "output_type": "stream",
     "text": [
      "\n"
     ]
    },
    {
     "name": "stdout",
     "output_type": "stream",
     "text": [
      "\n",
      "      Epoch    GPU_mem   box_loss   cls_loss   dfl_loss  Instances       Size\n"
     ]
    },
    {
     "name": "stderr",
     "output_type": "stream",
     "text": [
      "      27/30      3.48G     0.7392     0.3921     0.8324        506        640: 100%|██████████| 63/63 [00:41<00:00,  1.50it/s]\n",
      "                 Class     Images  Instances      Box(P          R      mAP50  mAP50-95): 100%|██████████| 7/7 [00:07<00:00,  1.05s/it]"
     ]
    },
    {
     "name": "stdout",
     "output_type": "stream",
     "text": [
      "                   all        200      11906      0.994       0.98      0.994      0.819\n"
     ]
    },
    {
     "name": "stderr",
     "output_type": "stream",
     "text": [
      "\n"
     ]
    },
    {
     "name": "stdout",
     "output_type": "stream",
     "text": [
      "\n",
      "      Epoch    GPU_mem   box_loss   cls_loss   dfl_loss  Instances       Size\n"
     ]
    },
    {
     "name": "stderr",
     "output_type": "stream",
     "text": [
      "      28/30       3.6G     0.7346      0.387     0.8328        365        640: 100%|██████████| 63/63 [00:49<00:00,  1.28it/s]\n",
      "                 Class     Images  Instances      Box(P          R      mAP50  mAP50-95): 100%|██████████| 7/7 [00:06<00:00,  1.14it/s]"
     ]
    },
    {
     "name": "stdout",
     "output_type": "stream",
     "text": [
      "                   all        200      11906      0.995      0.981      0.994      0.823\n"
     ]
    },
    {
     "name": "stderr",
     "output_type": "stream",
     "text": [
      "\n"
     ]
    },
    {
     "name": "stdout",
     "output_type": "stream",
     "text": [
      "\n",
      "      Epoch    GPU_mem   box_loss   cls_loss   dfl_loss  Instances       Size\n"
     ]
    },
    {
     "name": "stderr",
     "output_type": "stream",
     "text": [
      "      29/30      3.91G     0.7357     0.3873     0.8311        460        640: 100%|██████████| 63/63 [00:44<00:00,  1.41it/s]\n",
      "                 Class     Images  Instances      Box(P          R      mAP50  mAP50-95): 100%|██████████| 7/7 [00:08<00:00,  1.16s/it]"
     ]
    },
    {
     "name": "stdout",
     "output_type": "stream",
     "text": [
      "                   all        200      11906      0.994      0.981      0.994      0.823\n"
     ]
    },
    {
     "name": "stderr",
     "output_type": "stream",
     "text": [
      "\n"
     ]
    },
    {
     "name": "stdout",
     "output_type": "stream",
     "text": [
      "\n",
      "      Epoch    GPU_mem   box_loss   cls_loss   dfl_loss  Instances       Size\n"
     ]
    },
    {
     "name": "stderr",
     "output_type": "stream",
     "text": [
      "      30/30      4.79G     0.7246     0.3812     0.8297        479        640: 100%|██████████| 63/63 [00:42<00:00,  1.49it/s]\n",
      "                 Class     Images  Instances      Box(P          R      mAP50  mAP50-95): 100%|██████████| 7/7 [00:06<00:00,  1.01it/s]"
     ]
    },
    {
     "name": "stdout",
     "output_type": "stream",
     "text": [
      "                   all        200      11906      0.993      0.983      0.994      0.824\n"
     ]
    },
    {
     "name": "stderr",
     "output_type": "stream",
     "text": [
      "\n"
     ]
    },
    {
     "name": "stdout",
     "output_type": "stream",
     "text": [
      "\n",
      "30 epochs completed in 1.024 hours.\n",
      "Optimizer stripped from runs\\detect\\freeze_3_opt_Adam_lr_0.001_batch_168\\weights\\last.pt, 6.2MB\n",
      "Optimizer stripped from runs\\detect\\freeze_3_opt_Adam_lr_0.001_batch_168\\weights\\best.pt, 6.2MB\n",
      "\n",
      "Validating runs\\detect\\freeze_3_opt_Adam_lr_0.001_batch_168\\weights\\best.pt...\n",
      "Ultralytics 8.3.49  Python-3.10.0 torch-2.4.1+cu124 CUDA:0 (NVIDIA GeForce RTX 3080 Laptop GPU, 8192MiB)\n",
      "Model summary (fused): 168 layers, 3,005,843 parameters, 0 gradients, 8.1 GFLOPs\n"
     ]
    },
    {
     "name": "stderr",
     "output_type": "stream",
     "text": [
      "                 Class     Images  Instances      Box(P          R      mAP50  mAP50-95): 100%|██████████| 7/7 [00:16<00:00,  2.38s/it]\n"
     ]
    },
    {
     "name": "stdout",
     "output_type": "stream",
     "text": [
      "                   all        200      11906      0.993      0.983      0.994      0.824\n",
      "Speed: 1.3ms preprocess, 7.0ms inference, 0.0ms loss, 8.6ms postprocess per image\n",
      "Results saved to \u001b[1mruns\\detect\\freeze_3_opt_Adam_lr_0.001_batch_168\u001b[0m\n"
     ]
    },
    {
     "ename": "KeyError",
     "evalue": "'train/box_loss'",
     "output_type": "error",
     "traceback": [
      "\u001b[1;31m---------------------------------------------------------------------------\u001b[0m",
      "\u001b[1;31mKeyError\u001b[0m                                  Traceback (most recent call last)",
      "Cell \u001b[1;32mIn [30], line 10\u001b[0m\n\u001b[0;32m      1\u001b[0m \u001b[38;5;66;03m# Train with first 3 blocks frozen (stem + first two backbone blocks)\u001b[39;00m\n\u001b[0;32m      2\u001b[0m model, results \u001b[38;5;241m=\u001b[39m train_yolo_frozen_blocks(\n\u001b[0;32m      3\u001b[0m     blocks_to_freeze\u001b[38;5;241m=\u001b[39m\u001b[38;5;241m3\u001b[39m,\n\u001b[0;32m      4\u001b[0m     optimizer\u001b[38;5;241m=\u001b[39m\u001b[38;5;124m'\u001b[39m\u001b[38;5;124mAdam\u001b[39m\u001b[38;5;124m'\u001b[39m,\n\u001b[1;32m   (...)\u001b[0m\n\u001b[0;32m      7\u001b[0m     epochs\u001b[38;5;241m=\u001b[39m\u001b[38;5;241m30\u001b[39m\n\u001b[0;32m      8\u001b[0m )\n\u001b[1;32m---> 10\u001b[0m \u001b[43mplot_curves\u001b[49m\u001b[43m(\u001b[49m\u001b[43mresults\u001b[49m\u001b[43m)\u001b[49m\n",
      "Cell \u001b[1;32mIn [29], line 4\u001b[0m, in \u001b[0;36mplot_curves\u001b[1;34m(results)\u001b[0m\n\u001b[0;32m      2\u001b[0m plt\u001b[38;5;241m.\u001b[39mfigure(figsize\u001b[38;5;241m=\u001b[39m(\u001b[38;5;241m15\u001b[39m, \u001b[38;5;241m5\u001b[39m))\n\u001b[0;32m      3\u001b[0m plt\u001b[38;5;241m.\u001b[39msubplot(\u001b[38;5;241m1\u001b[39m, \u001b[38;5;241m2\u001b[39m, \u001b[38;5;241m1\u001b[39m)\n\u001b[1;32m----> 4\u001b[0m plt\u001b[38;5;241m.\u001b[39mplot(\u001b[43mresults\u001b[49m\u001b[38;5;241;43m.\u001b[39;49m\u001b[43mresults_dict\u001b[49m\u001b[43m[\u001b[49m\u001b[38;5;124;43m'\u001b[39;49m\u001b[38;5;124;43mtrain/box_loss\u001b[39;49m\u001b[38;5;124;43m'\u001b[39;49m\u001b[43m]\u001b[49m, label\u001b[38;5;241m=\u001b[39m\u001b[38;5;124m'\u001b[39m\u001b[38;5;124mtrain\u001b[39m\u001b[38;5;124m'\u001b[39m)\n\u001b[0;32m      5\u001b[0m plt\u001b[38;5;241m.\u001b[39mplot(results\u001b[38;5;241m.\u001b[39mresults_dict[\u001b[38;5;124m'\u001b[39m\u001b[38;5;124mval/box_loss\u001b[39m\u001b[38;5;124m'\u001b[39m], label\u001b[38;5;241m=\u001b[39m\u001b[38;5;124m'\u001b[39m\u001b[38;5;124mval\u001b[39m\u001b[38;5;124m'\u001b[39m)\n\u001b[0;32m      6\u001b[0m plt\u001b[38;5;241m.\u001b[39mtitle(\u001b[38;5;124m'\u001b[39m\u001b[38;5;124mBox Loss\u001b[39m\u001b[38;5;124m'\u001b[39m)\n",
      "\u001b[1;31mKeyError\u001b[0m: 'train/box_loss'"
     ]
    }
   ],
   "source": [
    "# Train with first 3 blocks frozen (stem + first two backbone blocks)\n",
    "model, results = train_yolo_frozen_blocks(\n",
    "    blocks_to_freeze=3,\n",
    "    optimizer='Adam',\n",
    "    lr=0.001,\n",
    "    batch_size=16,\n",
    "    epochs=30\n",
    ")\n",
    "\n",
    "visualize_results(results)"
   ]
  },
  {
   "cell_type": "code",
   "execution_count": null,
   "id": "8eec6091",
   "metadata": {},
   "outputs": [],
   "source": [
    "model2, results2 = train_yolo_frozen_blocks(\n",
    "    blocks_to_freeze=3,\n",
    "    optimizer='AdamW',  \n",
    "    lr=0.001,\n",
    "    batch_size=16,\n",
    "    epochs=30\n",
    ")\n",
    "\n",
    "visualize_results(results2)"
   ]
  },
  {
   "cell_type": "code",
   "execution_count": null,
   "id": "db5cba1c",
   "metadata": {},
   "outputs": [],
   "source": [
    "model3, results3 = train_yolo_frozen_blocks(\n",
    "    blocks_to_freeze=3,\n",
    "    optimizer='Adam',\n",
    "    lr=0.003,  \n",
    "    batch_size=32,  \n",
    "    epochs=30\n",
    ")\n",
    "\n",
    "visualize_results(results3)"
   ]
  }
 ],
 "metadata": {
  "kernelspec": {
   "display_name": "Python 3",
   "language": "python",
   "name": "python3"
  },
  "language_info": {
   "codemirror_mode": {
    "name": "ipython",
    "version": 3
   },
   "file_extension": ".py",
   "mimetype": "text/x-python",
   "name": "python",
   "nbconvert_exporter": "python",
   "pygments_lexer": "ipython3",
   "version": "3.10.0"
  }
 },
 "nbformat": 4,
 "nbformat_minor": 5
}
